{
  "nbformat": 4,
  "nbformat_minor": 0,
  "metadata": {
    "colab": {
      "name": "Final Python Project.ipynb",
      "provenance": []
    },
    "kernelspec": {
      "name": "python3",
      "display_name": "Python 3"
    },
    "language_info": {
      "name": "python"
    }
  },
  "cells": [
    {
      "cell_type": "code",
      "execution_count": null,
      "metadata": {
        "id": "m9lRwanixfeB",
        "colab": {
          "base_uri": "https://localhost:8080/"
        },
        "outputId": "08936382-e04c-4ae7-f86d-8c1ceb61d4e3"
      },
      "outputs": [
        {
          "metadata": {
            "tags": null
          },
          "name": "stdout",
          "output_type": "stream",
          "text": [
            "\n",
            " -----\n",
            "|1|2|3|\n",
            " -----\n",
            "|4|5|6|\n",
            " -----\n",
            "|7|8|9|\n",
            " -----\n",
            "\n",
            "Player 1:\n",
            "please enter a valid field\n",
            "\n",
            " -----\n",
            "|1|2|3|\n",
            " -----\n",
            "|4|5|6|\n",
            " -----\n",
            "|7|8|9|\n",
            " -----\n",
            "\n",
            "Player 1:\n"
          ]
        }
      ],
      "source": [
        "\"\"\"Sumya's Final python project - Game of tic tac toe\"\"\"\n",
        "block = []\n",
        "for pos in range (0, 9) :\n",
        "  block.append(str(pos + 1))\n",
        "firstPlayerTurn = True\n",
        "playerWinner = False\n",
        "\"\"\" Prints the 3x3 standard tic tac toe board using dashes and lines. Basic print functions used \"\"\"\n",
        "def displayBoard() :\n",
        "  print( '\\n -----')\n",
        "  print( '|' + block[0] + '|' + block[1] + '|' + block[2] + '|')\n",
        "  print( ' -----')\n",
        "  print( '|' + block[3] + '|' + block[4] + '|' + block[5] +  '|')\n",
        "  print( ' -----')\n",
        "  print( '|' + block[6] + '|' + block[7] + '|' + block[8] + '|')\n",
        "  print( ' -----\\n')\n",
        "\"\"\" Displays who's turn it is based on firstPlayerTurn and not firstPlayerTurn. All under while loop \"\"\"\n",
        "while not playerWinner :\n",
        "  displayBoard()\n",
        "  if firstPlayerTurn : \n",
        "    print( \"Player 1:\")\n",
        "  else :\n",
        "    print( \"Player 2:\")\n",
        "  try:\n",
        "    choice = int(input(\">> \"))\n",
        "  except:\n",
        "    print(\"please enter a valid field\")\n",
        "    continue\n",
        "  if block[choice - 1] == 'X' or block [choice-1] == 'O':  \n",
        "    print(\"illegal move, plase try again\")  \n",
        "    \"\"\" Accounts for illegal moves. Can't put move on occupied space \"\"\"\n",
        "    continue\n",
        "  if firstPlayerTurn : \n",
        "    block[choice - 1] = 'X'\n",
        "  else :\n",
        "    block[choice - 1] = 'O'\n",
        "  firstPlayerTurn = not firstPlayerTurn\n",
        "  for pos in range (0, 3) :\n",
        "    y = pos * 3\n",
        "    if (block[y] == block[(y + 1)] and block[y] == block[(y + 2)]) :\n",
        "      playerWinner = True\n",
        "      displayBoard()\n",
        "    if (block[pos] == block[(pos + 3)] and block[pos] == block[(pos + 6)]) :\n",
        "      playerWinner = True\n",
        "      displayBoard()\n",
        "  if((block[0] == block[4] and block[0] == block[8]) or (block[2] == block[4] and block[4] == block[6])) :\n",
        "    playerWinner = True\n",
        "    displayBoard()\n",
        "    print (\"Player \" + str(int(firstPlayerTurn + 1)) + \" wins!\\n\")\n",
        "    \"\"\" If conditions of winning are met, code will print which player won \"\"\"\n",
        "\n"
      ]
    },
    {
      "cell_type": "markdown",
      "source": [
        "Program can directly be ran on colab. Simply click run \n"
      ],
      "metadata": {
        "id": "KIE0MQXNJl_0"
      }
    }
  ]
}